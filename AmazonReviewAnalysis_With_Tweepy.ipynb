{
 "cells": [
  {
   "cell_type": "markdown",
   "metadata": {
    "id": "QrAKHVVbMhs4"
   },
   "source": []
  },
  {
   "cell_type": "code",
   "execution_count": null,
   "metadata": {
    "colab": {
     "base_uri": "https://localhost:8080/"
    },
    "executionInfo": {
     "elapsed": 3709,
     "status": "ok",
     "timestamp": 1694854489357,
     "user": {
      "displayName": "Tahiyya Khan",
      "userId": "02112400725815246626"
     },
     "user_tz": -330
    },
    "id": "q0gtyTKjMfBp",
    "outputId": "fa60da22-91ff-43fc-de00-cd70e9ed42f9"
   },
   "outputs": [
    {
     "name": "stdout",
     "output_type": "stream",
     "text": [
      "Requirement already satisfied: tweepy in /usr/local/lib/python3.10/dist-packages (4.13.0)\n",
      "Requirement already satisfied: oauthlib<4,>=3.2.0 in /usr/local/lib/python3.10/dist-packages (from tweepy) (3.2.2)\n",
      "Requirement already satisfied: requests<3,>=2.27.0 in /usr/local/lib/python3.10/dist-packages (from tweepy) (2.31.0)\n",
      "Requirement already satisfied: requests-oauthlib<2,>=1.2.0 in /usr/local/lib/python3.10/dist-packages (from tweepy) (1.3.1)\n",
      "Requirement already satisfied: charset-normalizer<4,>=2 in /usr/local/lib/python3.10/dist-packages (from requests<3,>=2.27.0->tweepy) (3.2.0)\n",
      "Requirement already satisfied: idna<4,>=2.5 in /usr/local/lib/python3.10/dist-packages (from requests<3,>=2.27.0->tweepy) (3.4)\n",
      "Requirement already satisfied: urllib3<3,>=1.21.1 in /usr/local/lib/python3.10/dist-packages (from requests<3,>=2.27.0->tweepy) (2.0.4)\n",
      "Requirement already satisfied: certifi>=2017.4.17 in /usr/local/lib/python3.10/dist-packages (from requests<3,>=2.27.0->tweepy) (2023.7.22)\n"
     ]
    }
   ],
   "source": [
    "!pip install tweepy"
   ]
  },
  {
   "cell_type": "code",
   "execution_count": null,
   "metadata": {
    "colab": {
     "base_uri": "https://localhost:8080/"
    },
    "executionInfo": {
     "elapsed": 2596,
     "status": "ok",
     "timestamp": 1694854540211,
     "user": {
      "displayName": "Tahiyya Khan",
      "userId": "02112400725815246626"
     },
     "user_tz": -330
    },
    "id": "hWEBkP8dMsUz",
    "outputId": "f6f9f0de-be5b-426d-b513-9fe59457b02c"
   },
   "outputs": [
    {
     "name": "stderr",
     "output_type": "stream",
     "text": [
      "[nltk_data] Downloading package stopwords to /root/nltk_data...\n",
      "[nltk_data]   Unzipping corpora/stopwords.zip.\n",
      "[nltk_data] Downloading package wordnet to /root/nltk_data...\n"
     ]
    }
   ],
   "source": [
    "import numpy as np\n",
    "import pandas as pd\n",
    "import tweepy as tw\n",
    "import re\n",
    "import nltk\n",
    "nltk.download('stopwords')\n",
    "nltk.download('wordnet')\n",
    "from nltk.corpus import stopwords\n",
    "from nltk.stem. porter import PorterStemmer\n",
    "from nltk.stem import WordNetLemmatizer\n",
    "import matplotlib.pyplot as plt\n",
    "import seaborn as sns\n",
    "import itertools\n",
    "import collections\n",
    "from textblob import TextBlob"
   ]
  },
  {
   "cell_type": "code",
   "execution_count": null,
   "metadata": {
    "id": "G6hxTd3XM79Y"
   },
   "outputs": [],
   "source": [
    "consumer_key = 'uUbVPTmtKMBB8i4DZDWAsxcGD'\n",
    "consumer_secret = 'WtrK8VKbC9P0myQHJKneoBQzSCi8EPlxFQrJAIjxtUfUNJhDka'\n",
    "access_token = '1702966795416588288-mjH1BZfdYfjbPmRprA5X6LzvSeMts6'\n",
    "access_token_secret = '9lZ2bdQNleszmrPo0eomMoA1AjdFEjcerUFGTzsBB4GUu'"
   ]
  },
  {
   "cell_type": "code",
   "execution_count": null,
   "metadata": {
    "id": "eUvtyNDnNWrc"
   },
   "outputs": [],
   "source": [
    "auth = tw.OAuthHandler(consumer_key, consumer_secret)\n",
    "auth.set_access_token (access_token, access_token_secret)\n",
    "api = tw. API (auth, wait_on_rate_limit=True)"
   ]
  },
  {
   "cell_type": "code",
   "execution_count": null,
   "metadata": {
    "colab": {
     "base_uri": "https://localhost:8080/",
     "height": 425
    },
    "executionInfo": {
     "elapsed": 1351,
     "status": "error",
     "timestamp": 1694855219977,
     "user": {
      "displayName": "Tahiyya Khan",
      "userId": "02112400725815246626"
     },
     "user_tz": -330
    },
    "id": "Ou_8Fx3kNoUq",
    "outputId": "76fbb8b3-f69c-4fd3-f140-07a7587ae7f7"
   },
   "outputs": [
    {
     "ename": "Forbidden",
     "evalue": "ignored",
     "output_type": "error",
     "traceback": [
      "\u001b[0;31m---------------------------------------------------------------------------\u001b[0m",
      "\u001b[0;31mForbidden\u001b[0m                                 Traceback (most recent call last)",
      "\u001b[0;32m<ipython-input-7-b2a81638cfff>\u001b[0m in \u001b[0;36m<cell line: 2>\u001b[0;34m()\u001b[0m\n\u001b[1;32m      1\u001b[0m \u001b[0;31m#public_tweets = api.home_timeline()\u001b[0m\u001b[0;34m\u001b[0m\u001b[0;34m\u001b[0m\u001b[0m\n\u001b[0;32m----> 2\u001b[0;31m \u001b[0mpublic_tweets\u001b[0m \u001b[0;34m=\u001b[0m \u001b[0mapi\u001b[0m\u001b[0;34m.\u001b[0m\u001b[0muser_timeline\u001b[0m\u001b[0;34m(\u001b[0m\u001b[0mscreen_name\u001b[0m\u001b[0;34m=\u001b[0m\u001b[0;34m\"@iamsrk\"\u001b[0m\u001b[0;34m,\u001b[0m \u001b[0mcount\u001b[0m\u001b[0;34m=\u001b[0m\u001b[0;36m10\u001b[0m\u001b[0;34m)\u001b[0m  \u001b[0;31m# Adjust the count as needed\u001b[0m\u001b[0;34m\u001b[0m\u001b[0;34m\u001b[0m\u001b[0m\n\u001b[0m\u001b[1;32m      3\u001b[0m \u001b[0;32mfor\u001b[0m \u001b[0mtweet\u001b[0m \u001b[0;32min\u001b[0m \u001b[0mpublic_tweets\u001b[0m\u001b[0;34m:\u001b[0m\u001b[0;34m\u001b[0m\u001b[0;34m\u001b[0m\u001b[0m\n\u001b[1;32m      4\u001b[0m   \u001b[0mprint\u001b[0m\u001b[0;34m(\u001b[0m\u001b[0mtweet\u001b[0m\u001b[0;34m.\u001b[0m\u001b[0mtext\u001b[0m\u001b[0;34m)\u001b[0m\u001b[0;34m\u001b[0m\u001b[0;34m\u001b[0m\u001b[0m\n",
      "\u001b[0;32m/usr/local/lib/python3.10/dist-packages/tweepy/api.py\u001b[0m in \u001b[0;36mwrapper\u001b[0;34m(*args, **kwargs)\u001b[0m\n\u001b[1;32m     31\u001b[0m         \u001b[0;34m@\u001b[0m\u001b[0mfunctools\u001b[0m\u001b[0;34m.\u001b[0m\u001b[0mwraps\u001b[0m\u001b[0;34m(\u001b[0m\u001b[0mmethod\u001b[0m\u001b[0;34m)\u001b[0m\u001b[0;34m\u001b[0m\u001b[0;34m\u001b[0m\u001b[0m\n\u001b[1;32m     32\u001b[0m         \u001b[0;32mdef\u001b[0m \u001b[0mwrapper\u001b[0m\u001b[0;34m(\u001b[0m\u001b[0;34m*\u001b[0m\u001b[0margs\u001b[0m\u001b[0;34m,\u001b[0m \u001b[0;34m**\u001b[0m\u001b[0mkwargs\u001b[0m\u001b[0;34m)\u001b[0m\u001b[0;34m:\u001b[0m\u001b[0;34m\u001b[0m\u001b[0;34m\u001b[0m\u001b[0m\n\u001b[0;32m---> 33\u001b[0;31m             \u001b[0;32mreturn\u001b[0m \u001b[0mmethod\u001b[0m\u001b[0;34m(\u001b[0m\u001b[0;34m*\u001b[0m\u001b[0margs\u001b[0m\u001b[0;34m,\u001b[0m \u001b[0;34m**\u001b[0m\u001b[0mkwargs\u001b[0m\u001b[0;34m)\u001b[0m\u001b[0;34m\u001b[0m\u001b[0;34m\u001b[0m\u001b[0m\n\u001b[0m\u001b[1;32m     34\u001b[0m         \u001b[0mwrapper\u001b[0m\u001b[0;34m.\u001b[0m\u001b[0mpagination_mode\u001b[0m \u001b[0;34m=\u001b[0m \u001b[0mmode\u001b[0m\u001b[0;34m\u001b[0m\u001b[0;34m\u001b[0m\u001b[0m\n\u001b[1;32m     35\u001b[0m         \u001b[0;32mreturn\u001b[0m \u001b[0mwrapper\u001b[0m\u001b[0;34m\u001b[0m\u001b[0;34m\u001b[0m\u001b[0m\n",
      "\u001b[0;32m/usr/local/lib/python3.10/dist-packages/tweepy/api.py\u001b[0m in \u001b[0;36mwrapper\u001b[0;34m(*args, **kwargs)\u001b[0m\n\u001b[1;32m     44\u001b[0m             \u001b[0mkwargs\u001b[0m\u001b[0;34m[\u001b[0m\u001b[0;34m'payload_list'\u001b[0m\u001b[0;34m]\u001b[0m \u001b[0;34m=\u001b[0m \u001b[0mpayload_list\u001b[0m\u001b[0;34m\u001b[0m\u001b[0;34m\u001b[0m\u001b[0m\n\u001b[1;32m     45\u001b[0m             \u001b[0mkwargs\u001b[0m\u001b[0;34m[\u001b[0m\u001b[0;34m'payload_type'\u001b[0m\u001b[0;34m]\u001b[0m \u001b[0;34m=\u001b[0m \u001b[0mpayload_type\u001b[0m\u001b[0;34m\u001b[0m\u001b[0;34m\u001b[0m\u001b[0m\n\u001b[0;32m---> 46\u001b[0;31m             \u001b[0;32mreturn\u001b[0m \u001b[0mmethod\u001b[0m\u001b[0;34m(\u001b[0m\u001b[0;34m*\u001b[0m\u001b[0margs\u001b[0m\u001b[0;34m,\u001b[0m \u001b[0;34m**\u001b[0m\u001b[0mkwargs\u001b[0m\u001b[0;34m)\u001b[0m\u001b[0;34m\u001b[0m\u001b[0;34m\u001b[0m\u001b[0m\n\u001b[0m\u001b[1;32m     47\u001b[0m         \u001b[0mwrapper\u001b[0m\u001b[0;34m.\u001b[0m\u001b[0mpayload_list\u001b[0m \u001b[0;34m=\u001b[0m \u001b[0mpayload_list\u001b[0m\u001b[0;34m\u001b[0m\u001b[0;34m\u001b[0m\u001b[0m\n\u001b[1;32m     48\u001b[0m         \u001b[0mwrapper\u001b[0m\u001b[0;34m.\u001b[0m\u001b[0mpayload_type\u001b[0m \u001b[0;34m=\u001b[0m \u001b[0mpayload_type\u001b[0m\u001b[0;34m\u001b[0m\u001b[0;34m\u001b[0m\u001b[0m\n",
      "\u001b[0;32m/usr/local/lib/python3.10/dist-packages/tweepy/api.py\u001b[0m in \u001b[0;36muser_timeline\u001b[0;34m(self, **kwargs)\u001b[0m\n\u001b[1;32m    575\u001b[0m         \u001b[0mhttps\u001b[0m\u001b[0;34m:\u001b[0m\u001b[0;34m//\u001b[0m\u001b[0mdeveloper\u001b[0m\u001b[0;34m.\u001b[0m\u001b[0mtwitter\u001b[0m\u001b[0;34m.\u001b[0m\u001b[0mcom\u001b[0m\u001b[0;34m/\u001b[0m\u001b[0men\u001b[0m\u001b[0;34m/\u001b[0m\u001b[0mdocs\u001b[0m\u001b[0;34m/\u001b[0m\u001b[0mtwitter\u001b[0m\u001b[0;34m-\u001b[0m\u001b[0mapi\u001b[0m\u001b[0;34m/\u001b[0m\u001b[0mv1\u001b[0m\u001b[0;34m/\u001b[0m\u001b[0mtweets\u001b[0m\u001b[0;34m/\u001b[0m\u001b[0mtimelines\u001b[0m\u001b[0;34m/\u001b[0m\u001b[0mapi\u001b[0m\u001b[0;34m-\u001b[0m\u001b[0mreference\u001b[0m\u001b[0;34m/\u001b[0m\u001b[0mget\u001b[0m\u001b[0;34m-\u001b[0m\u001b[0mstatuses\u001b[0m\u001b[0;34m-\u001b[0m\u001b[0muser_timeline\u001b[0m\u001b[0;34m\u001b[0m\u001b[0;34m\u001b[0m\u001b[0m\n\u001b[1;32m    576\u001b[0m         \"\"\"\n\u001b[0;32m--> 577\u001b[0;31m         return self.request(\n\u001b[0m\u001b[1;32m    578\u001b[0m             'GET', 'statuses/user_timeline', endpoint_parameters=(\n\u001b[1;32m    579\u001b[0m                 \u001b[0;34m'user_id'\u001b[0m\u001b[0;34m,\u001b[0m \u001b[0;34m'screen_name'\u001b[0m\u001b[0;34m,\u001b[0m \u001b[0;34m'since_id'\u001b[0m\u001b[0;34m,\u001b[0m \u001b[0;34m'count'\u001b[0m\u001b[0;34m,\u001b[0m \u001b[0;34m'max_id'\u001b[0m\u001b[0;34m,\u001b[0m\u001b[0;34m\u001b[0m\u001b[0;34m\u001b[0m\u001b[0m\n",
      "\u001b[0;32m/usr/local/lib/python3.10/dist-packages/tweepy/api.py\u001b[0m in \u001b[0;36mrequest\u001b[0;34m(self, method, endpoint, endpoint_parameters, params, headers, json_payload, parser, payload_list, payload_type, post_data, files, require_auth, return_cursors, upload_api, use_cache, **kwargs)\u001b[0m\n\u001b[1;32m    263\u001b[0m                 \u001b[0;32mraise\u001b[0m \u001b[0mUnauthorized\u001b[0m\u001b[0;34m(\u001b[0m\u001b[0mresp\u001b[0m\u001b[0;34m)\u001b[0m\u001b[0;34m\u001b[0m\u001b[0;34m\u001b[0m\u001b[0m\n\u001b[1;32m    264\u001b[0m             \u001b[0;32mif\u001b[0m \u001b[0mresp\u001b[0m\u001b[0;34m.\u001b[0m\u001b[0mstatus_code\u001b[0m \u001b[0;34m==\u001b[0m \u001b[0;36m403\u001b[0m\u001b[0;34m:\u001b[0m\u001b[0;34m\u001b[0m\u001b[0;34m\u001b[0m\u001b[0m\n\u001b[0;32m--> 265\u001b[0;31m                 \u001b[0;32mraise\u001b[0m \u001b[0mForbidden\u001b[0m\u001b[0;34m(\u001b[0m\u001b[0mresp\u001b[0m\u001b[0;34m)\u001b[0m\u001b[0;34m\u001b[0m\u001b[0;34m\u001b[0m\u001b[0m\n\u001b[0m\u001b[1;32m    266\u001b[0m             \u001b[0;32mif\u001b[0m \u001b[0mresp\u001b[0m\u001b[0;34m.\u001b[0m\u001b[0mstatus_code\u001b[0m \u001b[0;34m==\u001b[0m \u001b[0;36m404\u001b[0m\u001b[0;34m:\u001b[0m\u001b[0;34m\u001b[0m\u001b[0;34m\u001b[0m\u001b[0m\n\u001b[1;32m    267\u001b[0m                 \u001b[0;32mraise\u001b[0m \u001b[0mNotFound\u001b[0m\u001b[0;34m(\u001b[0m\u001b[0mresp\u001b[0m\u001b[0;34m)\u001b[0m\u001b[0;34m\u001b[0m\u001b[0;34m\u001b[0m\u001b[0m\n",
      "\u001b[0;31mForbidden\u001b[0m: 403 Forbidden\n453 - You currently have access to a subset of Twitter API v2 endpoints and limited v1.1 endpoints (e.g. media post, oauth) only. If you need access to this endpoint, you may need a different access level. You can learn more here: https://developer.twitter.com/en/portal/product"
     ]
    }
   ],
   "source": [
    "#public_tweets = api.home_timeline()\n",
    "public_tweets = api.user_timeline(screen_name=\"@iamsrk\", count=10)  # Adjust the count as needed\n",
    "for tweet in public_tweets:\n",
    "  print(tweet.text)"
   ]
  },
  {
   "cell_type": "code",
   "execution_count": null,
   "metadata": {
    "id": "c1iuzBtvWA9T"
   },
   "outputs": [],
   "source": [
    "# Print multiple statements in same line\n",
    "\n",
    "from IPython.core.interactiveshell import InteractiveShell\n",
    "InteractiveShell.ast_node_interactivity = \"all\""
   ]
  },
  {
   "cell_type": "code",
   "execution_count": null,
   "metadata": {
    "colab": {
     "base_uri": "https://localhost:8080/",
     "height": 328
    },
    "executionInfo": {
     "elapsed": 1512,
     "status": "ok",
     "timestamp": 1694856859650,
     "user": {
      "displayName": "Tahiyya Khan",
      "userId": "02112400725815246626"
     },
     "user_tz": -330
    },
    "id": "1pUuwkwqNvwB",
    "outputId": "48a86d99-83a4-49ed-a31e-32a6c885e1b2"
   },
   "outputs": [
    {
     "data": {
      "text/html": [
       "\n",
       "  <div id=\"df-109b1072-b0db-4f7b-9ac5-ece91ec59f31\" class=\"colab-df-container\">\n",
       "    <div>\n",
       "<style scoped>\n",
       "    .dataframe tbody tr th:only-of-type {\n",
       "        vertical-align: middle;\n",
       "    }\n",
       "\n",
       "    .dataframe tbody tr th {\n",
       "        vertical-align: top;\n",
       "    }\n",
       "\n",
       "    .dataframe thead th {\n",
       "        text-align: right;\n",
       "    }\n",
       "</style>\n",
       "<table border=\"1\" class=\"dataframe\">\n",
       "  <thead>\n",
       "    <tr style=\"text-align: right;\">\n",
       "      <th></th>\n",
       "      <th>review_profile_name</th>\n",
       "      <th>review_rating</th>\n",
       "      <th>review_title</th>\n",
       "      <th>review_body</th>\n",
       "      <th>review_link</th>\n",
       "      <th>review_context</th>\n",
       "    </tr>\n",
       "  </thead>\n",
       "  <tbody>\n",
       "    <tr>\n",
       "      <th>0</th>\n",
       "      <td>Jesse jay</td>\n",
       "      <td>4.0</td>\n",
       "      <td>I am glad I purchased I love these the color a...</td>\n",
       "      <td>I was a little spectacle about purchasing base...</td>\n",
       "      <td>/gp/customer-reviews/R2ZGGB510T6MZZ?ASIN=B075L...</td>\n",
       "      <td>Reviewed in the United States on February 14, ...</td>\n",
       "    </tr>\n",
       "    <tr>\n",
       "      <th>1</th>\n",
       "      <td>CandDwoody</td>\n",
       "      <td>4.0</td>\n",
       "      <td>Great value</td>\n",
       "      <td>It's hard finding the right color and long las...</td>\n",
       "      <td>/gp/customer-reviews/R3OWW0L8NOB9RJ?ASIN=B075L...</td>\n",
       "      <td>Reviewed in the United States on March 29, 2020</td>\n",
       "    </tr>\n",
       "    <tr>\n",
       "      <th>2</th>\n",
       "      <td>Donna</td>\n",
       "      <td>5.0</td>\n",
       "      <td>Pros and cons..</td>\n",
       "      <td>Pros- I put them on and let them dry.I can kis...</td>\n",
       "      <td>/gp/customer-reviews/R29A52RTOMEO1W?ASIN=B075L...</td>\n",
       "      <td>Reviewed in the United States on March 4, 2018</td>\n",
       "    </tr>\n",
       "    <tr>\n",
       "      <th>3</th>\n",
       "      <td>Kelsi Burkholder</td>\n",
       "      <td>4.0</td>\n",
       "      <td>I have been very pleased with this matte color...</td>\n",
       "      <td>I have been very pleased with this matte color...</td>\n",
       "      <td>/gp/customer-reviews/R2DZNESM3EA5T2?ASIN=B075L...</td>\n",
       "      <td>Reviewed in the United States on April 11, 2018</td>\n",
       "    </tr>\n",
       "    <tr>\n",
       "      <th>4</th>\n",
       "      <td>Judy Carter</td>\n",
       "      <td>3.0</td>\n",
       "      <td>Could be better</td>\n",
       "      <td>Product wasn't what I was expecting.A few of t...</td>\n",
       "      <td>/gp/customer-reviews/R1SQS91ZQV1611?ASIN=B075L...</td>\n",
       "      <td>Reviewed in the United States on October 3, 2021</td>\n",
       "    </tr>\n",
       "  </tbody>\n",
       "</table>\n",
       "</div>\n",
       "    <div class=\"colab-df-buttons\">\n",
       "\n",
       "  <div class=\"colab-df-container\">\n",
       "    <button class=\"colab-df-convert\" onclick=\"convertToInteractive('df-109b1072-b0db-4f7b-9ac5-ece91ec59f31')\"\n",
       "            title=\"Convert this dataframe to an interactive table.\"\n",
       "            style=\"display:none;\">\n",
       "\n",
       "  <svg xmlns=\"http://www.w3.org/2000/svg\" height=\"24px\" viewBox=\"0 -960 960 960\">\n",
       "    <path d=\"M120-120v-720h720v720H120Zm60-500h600v-160H180v160Zm220 220h160v-160H400v160Zm0 220h160v-160H400v160ZM180-400h160v-160H180v160Zm440 0h160v-160H620v160ZM180-180h160v-160H180v160Zm440 0h160v-160H620v160Z\"/>\n",
       "  </svg>\n",
       "    </button>\n",
       "\n",
       "  <style>\n",
       "    .colab-df-container {\n",
       "      display:flex;\n",
       "      gap: 12px;\n",
       "    }\n",
       "\n",
       "    .colab-df-convert {\n",
       "      background-color: #E8F0FE;\n",
       "      border: none;\n",
       "      border-radius: 50%;\n",
       "      cursor: pointer;\n",
       "      display: none;\n",
       "      fill: #1967D2;\n",
       "      height: 32px;\n",
       "      padding: 0 0 0 0;\n",
       "      width: 32px;\n",
       "    }\n",
       "\n",
       "    .colab-df-convert:hover {\n",
       "      background-color: #E2EBFA;\n",
       "      box-shadow: 0px 1px 2px rgba(60, 64, 67, 0.3), 0px 1px 3px 1px rgba(60, 64, 67, 0.15);\n",
       "      fill: #174EA6;\n",
       "    }\n",
       "\n",
       "    .colab-df-buttons div {\n",
       "      margin-bottom: 4px;\n",
       "    }\n",
       "\n",
       "    [theme=dark] .colab-df-convert {\n",
       "      background-color: #3B4455;\n",
       "      fill: #D2E3FC;\n",
       "    }\n",
       "\n",
       "    [theme=dark] .colab-df-convert:hover {\n",
       "      background-color: #434B5C;\n",
       "      box-shadow: 0px 1px 3px 1px rgba(0, 0, 0, 0.15);\n",
       "      filter: drop-shadow(0px 1px 2px rgba(0, 0, 0, 0.3));\n",
       "      fill: #FFFFFF;\n",
       "    }\n",
       "  </style>\n",
       "\n",
       "    <script>\n",
       "      const buttonEl =\n",
       "        document.querySelector('#df-109b1072-b0db-4f7b-9ac5-ece91ec59f31 button.colab-df-convert');\n",
       "      buttonEl.style.display =\n",
       "        google.colab.kernel.accessAllowed ? 'block' : 'none';\n",
       "\n",
       "      async function convertToInteractive(key) {\n",
       "        const element = document.querySelector('#df-109b1072-b0db-4f7b-9ac5-ece91ec59f31');\n",
       "        const dataTable =\n",
       "          await google.colab.kernel.invokeFunction('convertToInteractive',\n",
       "                                                    [key], {});\n",
       "        if (!dataTable) return;\n",
       "\n",
       "        const docLinkHtml = 'Like what you see? Visit the ' +\n",
       "          '<a target=\"_blank\" href=https://colab.research.google.com/notebooks/data_table.ipynb>data table notebook</a>'\n",
       "          + ' to learn more about interactive tables.';\n",
       "        element.innerHTML = '';\n",
       "        dataTable['output_type'] = 'display_data';\n",
       "        await google.colab.output.renderOutput(dataTable, element);\n",
       "        const docLink = document.createElement('div');\n",
       "        docLink.innerHTML = docLinkHtml;\n",
       "        element.appendChild(docLink);\n",
       "      }\n",
       "    </script>\n",
       "  </div>\n",
       "\n",
       "\n",
       "<div id=\"df-bdbadf8a-5c3a-40cc-a86a-7b4f8d4b2862\">\n",
       "  <button class=\"colab-df-quickchart\" onclick=\"quickchart('df-bdbadf8a-5c3a-40cc-a86a-7b4f8d4b2862')\"\n",
       "            title=\"Suggest charts.\"\n",
       "            style=\"display:none;\">\n",
       "\n",
       "<svg xmlns=\"http://www.w3.org/2000/svg\" height=\"24px\"viewBox=\"0 0 24 24\"\n",
       "     width=\"24px\">\n",
       "    <g>\n",
       "        <path d=\"M19 3H5c-1.1 0-2 .9-2 2v14c0 1.1.9 2 2 2h14c1.1 0 2-.9 2-2V5c0-1.1-.9-2-2-2zM9 17H7v-7h2v7zm4 0h-2V7h2v10zm4 0h-2v-4h2v4z\"/>\n",
       "    </g>\n",
       "</svg>\n",
       "  </button>\n",
       "\n",
       "<style>\n",
       "  .colab-df-quickchart {\n",
       "      --bg-color: #E8F0FE;\n",
       "      --fill-color: #1967D2;\n",
       "      --hover-bg-color: #E2EBFA;\n",
       "      --hover-fill-color: #174EA6;\n",
       "      --disabled-fill-color: #AAA;\n",
       "      --disabled-bg-color: #DDD;\n",
       "  }\n",
       "\n",
       "  [theme=dark] .colab-df-quickchart {\n",
       "      --bg-color: #3B4455;\n",
       "      --fill-color: #D2E3FC;\n",
       "      --hover-bg-color: #434B5C;\n",
       "      --hover-fill-color: #FFFFFF;\n",
       "      --disabled-bg-color: #3B4455;\n",
       "      --disabled-fill-color: #666;\n",
       "  }\n",
       "\n",
       "  .colab-df-quickchart {\n",
       "    background-color: var(--bg-color);\n",
       "    border: none;\n",
       "    border-radius: 50%;\n",
       "    cursor: pointer;\n",
       "    display: none;\n",
       "    fill: var(--fill-color);\n",
       "    height: 32px;\n",
       "    padding: 0;\n",
       "    width: 32px;\n",
       "  }\n",
       "\n",
       "  .colab-df-quickchart:hover {\n",
       "    background-color: var(--hover-bg-color);\n",
       "    box-shadow: 0 1px 2px rgba(60, 64, 67, 0.3), 0 1px 3px 1px rgba(60, 64, 67, 0.15);\n",
       "    fill: var(--button-hover-fill-color);\n",
       "  }\n",
       "\n",
       "  .colab-df-quickchart-complete:disabled,\n",
       "  .colab-df-quickchart-complete:disabled:hover {\n",
       "    background-color: var(--disabled-bg-color);\n",
       "    fill: var(--disabled-fill-color);\n",
       "    box-shadow: none;\n",
       "  }\n",
       "\n",
       "  .colab-df-spinner {\n",
       "    border: 2px solid var(--fill-color);\n",
       "    border-color: transparent;\n",
       "    border-bottom-color: var(--fill-color);\n",
       "    animation:\n",
       "      spin 1s steps(1) infinite;\n",
       "  }\n",
       "\n",
       "  @keyframes spin {\n",
       "    0% {\n",
       "      border-color: transparent;\n",
       "      border-bottom-color: var(--fill-color);\n",
       "      border-left-color: var(--fill-color);\n",
       "    }\n",
       "    20% {\n",
       "      border-color: transparent;\n",
       "      border-left-color: var(--fill-color);\n",
       "      border-top-color: var(--fill-color);\n",
       "    }\n",
       "    30% {\n",
       "      border-color: transparent;\n",
       "      border-left-color: var(--fill-color);\n",
       "      border-top-color: var(--fill-color);\n",
       "      border-right-color: var(--fill-color);\n",
       "    }\n",
       "    40% {\n",
       "      border-color: transparent;\n",
       "      border-right-color: var(--fill-color);\n",
       "      border-top-color: var(--fill-color);\n",
       "    }\n",
       "    60% {\n",
       "      border-color: transparent;\n",
       "      border-right-color: var(--fill-color);\n",
       "    }\n",
       "    80% {\n",
       "      border-color: transparent;\n",
       "      border-right-color: var(--fill-color);\n",
       "      border-bottom-color: var(--fill-color);\n",
       "    }\n",
       "    90% {\n",
       "      border-color: transparent;\n",
       "      border-bottom-color: var(--fill-color);\n",
       "    }\n",
       "  }\n",
       "</style>\n",
       "\n",
       "  <script>\n",
       "    async function quickchart(key) {\n",
       "      const quickchartButtonEl =\n",
       "        document.querySelector('#' + key + ' button');\n",
       "      quickchartButtonEl.disabled = true;  // To prevent multiple clicks.\n",
       "      quickchartButtonEl.classList.add('colab-df-spinner');\n",
       "      try {\n",
       "        const charts = await google.colab.kernel.invokeFunction(\n",
       "            'suggestCharts', [key], {});\n",
       "      } catch (error) {\n",
       "        console.error('Error during call to suggestCharts:', error);\n",
       "      }\n",
       "      quickchartButtonEl.classList.remove('colab-df-spinner');\n",
       "      quickchartButtonEl.classList.add('colab-df-quickchart-complete');\n",
       "    }\n",
       "    (() => {\n",
       "      let quickchartButtonEl =\n",
       "        document.querySelector('#df-bdbadf8a-5c3a-40cc-a86a-7b4f8d4b2862 button');\n",
       "      quickchartButtonEl.style.display =\n",
       "        google.colab.kernel.accessAllowed ? 'block' : 'none';\n",
       "    })();\n",
       "  </script>\n",
       "</div>\n",
       "    </div>\n",
       "  </div>\n"
      ],
      "text/plain": [
       "  review_profile_name  review_rating  \\\n",
       "0           Jesse jay            4.0   \n",
       "1          CandDwoody            4.0   \n",
       "2               Donna            5.0   \n",
       "3    Kelsi Burkholder            4.0   \n",
       "4         Judy Carter            3.0   \n",
       "\n",
       "                                        review_title  \\\n",
       "0  I am glad I purchased I love these the color a...   \n",
       "1                                        Great value   \n",
       "2                                    Pros and cons..   \n",
       "3  I have been very pleased with this matte color...   \n",
       "4                                    Could be better   \n",
       "\n",
       "                                         review_body  \\\n",
       "0  I was a little spectacle about purchasing base...   \n",
       "1  It's hard finding the right color and long las...   \n",
       "2  Pros- I put them on and let them dry.I can kis...   \n",
       "3  I have been very pleased with this matte color...   \n",
       "4  Product wasn't what I was expecting.A few of t...   \n",
       "\n",
       "                                         review_link  \\\n",
       "0  /gp/customer-reviews/R2ZGGB510T6MZZ?ASIN=B075L...   \n",
       "1  /gp/customer-reviews/R3OWW0L8NOB9RJ?ASIN=B075L...   \n",
       "2  /gp/customer-reviews/R29A52RTOMEO1W?ASIN=B075L...   \n",
       "3  /gp/customer-reviews/R2DZNESM3EA5T2?ASIN=B075L...   \n",
       "4  /gp/customer-reviews/R1SQS91ZQV1611?ASIN=B075L...   \n",
       "\n",
       "                                      review_context  \n",
       "0  Reviewed in the United States on February 14, ...  \n",
       "1    Reviewed in the United States on March 29, 2020  \n",
       "2     Reviewed in the United States on March 4, 2018  \n",
       "3    Reviewed in the United States on April 11, 2018  \n",
       "4   Reviewed in the United States on October 3, 2021  "
      ]
     },
     "execution_count": 14,
     "metadata": {},
     "output_type": "execute_result"
    }
   ],
   "source": [
    "df = pd.read_excel('amazon.xlsx')\n",
    "df.head()"
   ]
  },
  {
   "cell_type": "code",
   "execution_count": null,
   "metadata": {
    "colab": {
     "base_uri": "https://localhost:8080/"
    },
    "executionInfo": {
     "elapsed": 6,
     "status": "ok",
     "timestamp": 1694856934553,
     "user": {
      "displayName": "Tahiyya Khan",
      "userId": "02112400725815246626"
     },
     "user_tz": -330
    },
    "id": "oBDjduO8Usu7",
    "outputId": "9c82d62a-0381-4bd1-ef5d-c8fd9f2bf09f"
   },
   "outputs": [
    {
     "data": {
      "text/plain": [
       "pandas.core.series.Series"
      ]
     },
     "execution_count": 20,
     "metadata": {},
     "output_type": "execute_result"
    }
   ],
   "source": [
    "tweets = df['review_body']\n",
    "type(tweets)"
   ]
  },
  {
   "cell_type": "code",
   "execution_count": null,
   "metadata": {
    "colab": {
     "base_uri": "https://localhost:8080/"
    },
    "executionInfo": {
     "elapsed": 437,
     "status": "ok",
     "timestamp": 1694856933256,
     "user": {
      "displayName": "Tahiyya Khan",
      "userId": "02112400725815246626"
     },
     "user_tz": -330
    },
    "id": "jX0zeNHsWGYu",
    "outputId": "dd6fe089-953a-4a92-d5ce-1d7df20e331a"
   },
   "outputs": [
    {
     "data": {
      "text/plain": [
       "0    I was a little spectacle about purchasing base...\n",
       "1    It's hard finding the right color and long las...\n",
       "Name: review_body, dtype: object"
      ]
     },
     "execution_count": 19,
     "metadata": {},
     "output_type": "execute_result"
    }
   ],
   "source": [
    "tweets[0:2]"
   ]
  },
  {
   "cell_type": "code",
   "execution_count": null,
   "metadata": {
    "colab": {
     "base_uri": "https://localhost:8080/"
    },
    "executionInfo": {
     "elapsed": 390,
     "status": "ok",
     "timestamp": 1694856927224,
     "user": {
      "displayName": "Tahiyya Khan",
      "userId": "02112400725815246626"
     },
     "user_tz": -330
    },
    "id": "LsGVBpyjVDfP",
    "outputId": "068fd487-3e6f-4408-eb38-8654d597a9e8"
   },
   "outputs": [
    {
     "data": {
      "text/plain": [
       "81"
      ]
     },
     "execution_count": 18,
     "metadata": {},
     "output_type": "execute_result"
    }
   ],
   "source": [
    "len(tweets)"
   ]
  },
  {
   "cell_type": "code",
   "execution_count": null,
   "metadata": {
    "id": "LMGIbQNqWFP6"
   },
   "outputs": [],
   "source": [
    "corpus = [] # Form an empty list called corpus\n",
    "ps = PorterStemmer () # For stemming the words to original form, for example- \"running to run\"\n",
    "stop_words = set (stopwords.words ('english')) # remove words such as will, I, and, at etc.\n",
    "\n",
    "for i in range(0, len(tweets)): # Iterate through the list of 1000 tweets\n",
    "  # remove handles (@), numbers, urls, emojis and any other special characters to have only text\n",
    "  tweets_text_cln = re.sub(\"(@[A-Za-z0-9]+)|([^0-9A-Za-z \\t])|(\\w+:\\/\\/\\S+)|[0-9]\",' ', str(tweets[i]))\n",
    "  # Convert all words to lower case\n",
    "  tweets_text_cln = tweets_text_cln.lower()\n",
    "  # Split sentences into words\n",
    "  tweets_text_cln = tweets_text_cln.split()\n",
    "  # Remove English stopwords\n",
    "  tweets_text_cln = [x for x in tweets_text_cln if not x in stop_words]\n",
    "  # Stem words to the baseform\n",
    "  #tweets_text_cln [ps.stem(x) for x in tweets_text_cln]\n",
    "  #join words to form the original sentences, but cleaned-up\n",
    "  tweets_text_cln=\" \".join(tweets_text_cln)\n",
    "  # Append to the list to get all tweets in one place\n",
    "  corpus.append(tweets_text_cln)"
   ]
  },
  {
   "cell_type": "code",
   "execution_count": null,
   "metadata": {
    "colab": {
     "base_uri": "https://localhost:8080/"
    },
    "executionInfo": {
     "elapsed": 400,
     "status": "ok",
     "timestamp": 1694857634252,
     "user": {
      "displayName": "Tahiyya Khan",
      "userId": "02112400725815246626"
     },
     "user_tz": -330
    },
    "id": "8-3bcqJoXe0B",
    "outputId": "a50090d6-b788-4603-9693-f74a88916b59"
   },
   "outputs": [
    {
     "name": "stdout",
     "output_type": "stream",
     "text": [
      "Before\n",
      "\n",
      "0     I was a little spectacle about purchasing base...\n",
      "1     It's hard finding the right color and long las...\n",
      "2     Pros- I put them on and let them dry.I can kis...\n",
      "3     I have been very pleased with this matte color...\n",
      "4     Product wasn't what I was expecting.A few of t...\n",
      "                            ...                        \n",
      "76                Colors are much lighter than pictures\n",
      "77    DisgustingNot even worth the price u know how ...\n",
      "78                   Pretty colors but didn't last long\n",
      "79    Great quality. I always get compliments when I...\n",
      "80             These are great velvet matte lipglosses.\n",
      "Name: review_body, Length: 81, dtype: object\n"
     ]
    }
   ],
   "source": [
    "print(\"Before\\n\")\n",
    "print(tweets)"
   ]
  },
  {
   "cell_type": "code",
   "execution_count": null,
   "metadata": {
    "colab": {
     "base_uri": "https://localhost:8080/"
    },
    "executionInfo": {
     "elapsed": 668,
     "status": "ok",
     "timestamp": 1694857698262,
     "user": {
      "displayName": "Tahiyya Khan",
      "userId": "02112400725815246626"
     },
     "user_tz": -330
    },
    "id": "YENtGiEPYhFC",
    "outputId": "56849abd-d0f9-4c4c-be8e-d37067324544"
   },
   "outputs": [
    {
     "name": "stdout",
     "output_type": "stream",
     "text": [
      "After\n",
      "\n"
     ]
    },
    {
     "data": {
      "text/plain": [
       "['little spectacle purchasing based reviews glad purchased love color extremely pigmented dry matte pretty fast little matte matte lips feel bit like chalk mind lips become chapped lippies flaky matte sticky long lasting whoever stay ur salvia drinking eating take pigment hours need reapply would recommend price grest product individually wrapped plus swatches order left right also last pic tried washing twice soap update since purchased tried lippies several flake several wan sure formula different darkest red darkest brown flake dropped star',\n",
       " 'hard finding right color long lasting tried kylie jenner lip color shade purchased came right returned tried half price got selection colors found perfect shade lasted hours longer half price doesnt last day dry stay think u need dryness love',\n",
       " 'pros put let dry kiss husband whole time love colors dark small putin pocket reapply feel needcon dry make lips look chapped sometimes put gloss also feel like wearing different colors stains lips think put cause stain finger skin want change color difficult change dark light end love',\n",
       " 'pleased matte color kit lip glosses apply well stay long duration time think colors beautiful different skin colors hair colors friends use colors well love would recommend try great price variety colors experiment',\n",
       " 'product expecting liquid lipstick tubes leaked discarded would recommend',\n",
       " 'piece matte set lipsticks price good products almost watery runny feel feel like matte lipstick like thick lip gloss alright chap lips bit wear lip balm sure honestly super impressed',\n",
       " 'loved product lipstick dries quick stays looks great downside colors tend dry much flake plus colors never use like browns orange pink color came quickly price overall satisfied purchase',\n",
       " 'stay long thought would',\n",
       " 'product well worth aware dry sticky texture apply might want carry lip balm colors great true pictures',\n",
       " 'colors bit darker typically wear love variety especially price color bleed feather around edges either tried top coat know trying wear glossy rather matte effect longevity',\n",
       " 'tought would getting focallure ones actually someother company remember lipsticks easy apply resistant food drink proof feel nice lips liked colors probably end using',\n",
       " 'months buying product used couple colors amazing stay lips hours eaten licked using lips get used would recommend darker colors close nude redish colors match skin would definitely keep buying product overall love one color stay color always might even buy product',\n",
       " 'totally awesome love different colors goes smooth nice matte finish little sticky dries almost dollar per tube get price totally satisfied purchase',\n",
       " 'pretty colors different smell coming lipstick applied',\n",
       " 'like smeared teeth difficult remove yet lips would gone within hours',\n",
       " 'search box lipsense productsthis product snuck within resultsmy mistake ordering thinking small sample lipsenses poor qualitysneaky advertisement',\n",
       " 'like colors group colors like product sticky dried lips bad',\n",
       " 'first time used kind product creamy apply good long lasting coverage',\n",
       " 'colors advertised containers cheap crack easily screwing top back crack easily throw entiretube away color matte good containers cheap',\n",
       " 'muy buena la durabilidad pero llegaron dos rotos hay algunos que dan una sensacion de picazon al ponerselo',\n",
       " 'like color selection however lipstick gritty texture want feel like sand mouth',\n",
       " 'colors wonderful drying lips thought might however found long wearing name brand put gloss top feel lips dry found makes lipstick fade away give long wear although love colors attracted probably order product',\n",
       " 'item real smart buy got good value money many choices last long time',\n",
       " 'perfect post office put deliver package yesterday lie deliver package today',\n",
       " 'use daily basis work stays long time wet come quickly',\n",
       " 'colors bright rich easy put last really long time',\n",
       " 'love semi permanent eat food like subway sandwich example give pop kiss come unless french kiss would definitely come love matte finish beat price items given find similar products anywhere picture taken ate right lunchtime',\n",
       " 'great love color lasts put tiny color like',\n",
       " 'exactly description says stains well colors look much like included color different name downfall',\n",
       " 'colors look like paint lips others matte looking',\n",
       " 'goes smooth dries good long wear need makeup remover fully remove',\n",
       " 'ok color long lasting darker colors get everything get pay',\n",
       " 'sticky like smell dry lips come everything like coffee',\n",
       " 'drys lips nice assorted colors love',\n",
       " 'advise stay away product feels like glue lips product quality cheap even though get several different colors sounds good definitely worth money threw trying give themaway friends try told lip stick feels like glue come even make wipes',\n",
       " 'would make lips dry would get clumpy ate',\n",
       " 'stick bold colors love part come extremely easily',\n",
       " 'colors pretty hard remove matte lipstick add little usual',\n",
       " 'exact dupe colors nice way try soending per lippie',\n",
       " 'quality expected long lasting product',\n",
       " 'tubes leak',\n",
       " 'pretty colors like one came broke another color peels lips probably buy',\n",
       " 'use already open dirty',\n",
       " 'dislike way feels cruddy',\n",
       " 'sticky way taking done wearing',\n",
       " 'really liked colors long staying',\n",
       " 'nice colors need sell clear lip glosses go set',\n",
       " 'enough moisture',\n",
       " 'like product wish brown lot purple pinks',\n",
       " 'applicators seem cheap last well expected',\n",
       " 'none colors suitable nice someone else',\n",
       " 'colors light mix',\n",
       " 'colors nice vibrant colorful variety options however long lasting lipstick would expect last one cup coffee unfortunately case matte piece set',\n",
       " 'colors good dries many lips',\n",
       " 'kind matte lipstick looking really color right really like way looks drys lip liner job',\n",
       " 'soon lips damp wears hard get lips damp',\n",
       " 'like',\n",
       " 'lots color like',\n",
       " 'worth investment better buy one good lipstick dry lips best smell okay colors apply well',\n",
       " 'liked colors hard wipe rough lips applied dry starts wet looking drys',\n",
       " 'nan',\n",
       " 'stay super sticky feeling matte like getting glue huge clump lipstick lips',\n",
       " 'joke around waterproof scrub get using chapstick help lips heal scrub hard heaven help smears put wash even scrubbing',\n",
       " 'nice variety feels cheap smells like sugar free candy',\n",
       " 'looks good makes lips extremely dry',\n",
       " 'super excited receive product however tubes ones pulled lower lineup broken leaked others inside package kinda bummed',\n",
       " 'great shades last long time dries quickly',\n",
       " 'lipstick comes immediately gets sticky like glue roles hate',\n",
       " 'super happy colors quality lipstick goes evenly stays day',\n",
       " 'colors odd last lips glossy matte',\n",
       " 'stars smells like chemicals worst lips stuck together immediately applying',\n",
       " 'stay literally hours depending color super matte exactally wanted',\n",
       " 'great product',\n",
       " 'ordered mom like smell bad like gasoline something',\n",
       " 'lipsticks stay night even several drinks reapplied night',\n",
       " 'luv luv luv best matte found leave plastered feeling dry feeling',\n",
       " 'colors much lighter pictures',\n",
       " 'disgustingnot even worth price u know people say u get pay completely opposite lipstick makes feel like sand lips ugh dry',\n",
       " 'pretty colors last long',\n",
       " 'great quality always get compliments wear crazy low price many awesome colors',\n",
       " 'great velvet matte lipglosses']"
      ]
     },
     "execution_count": 30,
     "metadata": {},
     "output_type": "execute_result"
    }
   ],
   "source": [
    "print(\"After\\n\")\n",
    "corpus"
   ]
  },
  {
   "cell_type": "code",
   "execution_count": null,
   "metadata": {
    "colab": {
     "base_uri": "https://localhost:8080/"
    },
    "executionInfo": {
     "elapsed": 389,
     "status": "ok",
     "timestamp": 1694857652094,
     "user": {
      "displayName": "Tahiyya Khan",
      "userId": "02112400725815246626"
     },
     "user_tz": -330
    },
    "id": "a8Kot_3gYjcq",
    "outputId": "7de31e0e-9f69-49f5-dd83-59a1569c1de5"
   },
   "outputs": [
    {
     "data": {
      "text/plain": [
       "81"
      ]
     },
     "execution_count": 28,
     "metadata": {},
     "output_type": "execute_result"
    }
   ],
   "source": [
    "len(corpus)"
   ]
  },
  {
   "cell_type": "code",
   "execution_count": null,
   "metadata": {
    "id": "m4TXL28BY2D1"
   },
   "outputs": [],
   "source": [
    "bagofwords = []\n",
    "for i in range(0, len(corpus)):\n",
    "  words = corpus[i].split()\n",
    "  bagofwords.append(words)"
   ]
  },
  {
   "cell_type": "code",
   "execution_count": null,
   "metadata": {
    "colab": {
     "base_uri": "https://localhost:8080/"
    },
    "executionInfo": {
     "elapsed": 472,
     "status": "ok",
     "timestamp": 1694857775022,
     "user": {
      "displayName": "Tahiyya Khan",
      "userId": "02112400725815246626"
     },
     "user_tz": -330
    },
    "id": "yH_7c7FpZSzY",
    "outputId": "e61a2e6a-d6c9-454c-9ac1-20c2e689fc33"
   },
   "outputs": [
    {
     "data": {
      "text/plain": [
       "['little',\n",
       " 'spectacle',\n",
       " 'purchasing',\n",
       " 'based',\n",
       " 'reviews',\n",
       " 'glad',\n",
       " 'purchased',\n",
       " 'love',\n",
       " 'color',\n",
       " 'extremely',\n",
       " 'pigmented',\n",
       " 'dry',\n",
       " 'matte',\n",
       " 'pretty',\n",
       " 'fast',\n",
       " 'little',\n",
       " 'matte',\n",
       " 'matte',\n",
       " 'lips',\n",
       " 'feel',\n",
       " 'bit',\n",
       " 'like',\n",
       " 'chalk',\n",
       " 'mind',\n",
       " 'lips',\n",
       " 'become',\n",
       " 'chapped',\n",
       " 'lippies',\n",
       " 'flaky',\n",
       " 'matte',\n",
       " 'sticky',\n",
       " 'long',\n",
       " 'lasting',\n",
       " 'whoever',\n",
       " 'stay',\n",
       " 'ur',\n",
       " 'salvia',\n",
       " 'drinking',\n",
       " 'eating',\n",
       " 'take',\n",
       " 'pigment',\n",
       " 'hours',\n",
       " 'need',\n",
       " 'reapply',\n",
       " 'would',\n",
       " 'recommend',\n",
       " 'price',\n",
       " 'grest',\n",
       " 'product',\n",
       " 'individually',\n",
       " 'wrapped',\n",
       " 'plus',\n",
       " 'swatches',\n",
       " 'order',\n",
       " 'left',\n",
       " 'right',\n",
       " 'also',\n",
       " 'last',\n",
       " 'pic',\n",
       " 'tried',\n",
       " 'washing',\n",
       " 'twice',\n",
       " 'soap',\n",
       " 'update',\n",
       " 'since',\n",
       " 'purchased',\n",
       " 'tried',\n",
       " 'lippies',\n",
       " 'several',\n",
       " 'flake',\n",
       " 'several',\n",
       " 'wan',\n",
       " 'sure',\n",
       " 'formula',\n",
       " 'different',\n",
       " 'darkest',\n",
       " 'red',\n",
       " 'darkest',\n",
       " 'brown',\n",
       " 'flake',\n",
       " 'dropped',\n",
       " 'star']"
      ]
     },
     "execution_count": 32,
     "metadata": {},
     "output_type": "execute_result"
    }
   ],
   "source": [
    "bagofwords[0]"
   ]
  },
  {
   "cell_type": "code",
   "execution_count": null,
   "metadata": {
    "colab": {
     "base_uri": "https://localhost:8080/"
    },
    "executionInfo": {
     "elapsed": 398,
     "status": "ok",
     "timestamp": 1694857865605,
     "user": {
      "displayName": "Tahiyya Khan",
      "userId": "02112400725815246626"
     },
     "user_tz": -330
    },
    "id": "GHJJeXJXZT-b",
    "outputId": "0ffd3982-6a4f-4ebd-8a8b-0bee8725f242"
   },
   "outputs": [
    {
     "name": "stdout",
     "output_type": "stream",
     "text": [
      "['little', 'spectacle', 'purchasing', 'based', 'reviews', 'glad', 'purchased', 'love', 'color', 'extremely']\n",
      "\n",
      "Most commonaly occuring words and frequency\n",
      "\n"
     ]
    },
    {
     "data": {
      "text/plain": [
       "[('colors', 46),\n",
       " ('like', 30),\n",
       " ('lips', 29),\n",
       " ('matte', 20),\n",
       " ('color', 19),\n",
       " ('long', 17),\n",
       " ('product', 17),\n",
       " ('love', 14),\n",
       " ('dry', 14),\n",
       " ('lipstick', 14),\n",
       " ('would', 12),\n",
       " ('price', 11),\n",
       " ('stay', 10),\n",
       " ('get', 10),\n",
       " ('feel', 9),\n",
       " ('last', 9),\n",
       " ('good', 9),\n",
       " ('sticky', 8),\n",
       " ('lip', 8),\n",
       " ('put', 8)]"
      ]
     },
     "execution_count": 33,
     "metadata": {},
     "output_type": "execute_result"
    }
   ],
   "source": [
    "all_words = list(itertools.chain(*bagofwords))\n",
    "print(all_words[0:10])\n",
    "print()\n",
    "print(\"Most commonaly occuring words and frequency\\n\")\n",
    "words_freq = collections.Counter(all_words)\n",
    "words_freq.most_common(20)"
   ]
  },
  {
   "cell_type": "code",
   "execution_count": null,
   "metadata": {
    "id": "yrjd7XsPahDJ"
   },
   "outputs": [],
   "source": [
    "words_to_remove = ['product', 'would', 'lipstick','put','get']\n",
    "bagsofwords_new = [[x for x in word if not x in words_to_remove] for word in bagofwords]"
   ]
  },
  {
   "cell_type": "code",
   "execution_count": null,
   "metadata": {
    "colab": {
     "base_uri": "https://localhost:8080/"
    },
    "executionInfo": {
     "elapsed": 388,
     "status": "ok",
     "timestamp": 1694858233654,
     "user": {
      "displayName": "Tahiyya Khan",
      "userId": "02112400725815246626"
     },
     "user_tz": -330
    },
    "id": "MVn4q3Vxa_P8",
    "outputId": "0aa78a2d-571c-4b89-a4d6-ad5ebd19ba20"
   },
   "outputs": [
    {
     "name": "stdout",
     "output_type": "stream",
     "text": [
      "['little', 'spectacle', 'purchasing', 'based', 'reviews', 'glad', 'purchased', 'love', 'color', 'extremely']\n",
      "\n",
      "Most commonaly occuring words and frequency\n",
      "\n"
     ]
    },
    {
     "data": {
      "text/plain": [
       "[('colors', 46),\n",
       " ('like', 30),\n",
       " ('lips', 29),\n",
       " ('matte', 20),\n",
       " ('color', 19),\n",
       " ('long', 17),\n",
       " ('love', 14),\n",
       " ('dry', 14),\n",
       " ('price', 11),\n",
       " ('stay', 10),\n",
       " ('feel', 9),\n",
       " ('last', 9),\n",
       " ('good', 9),\n",
       " ('sticky', 8),\n",
       " ('lip', 8),\n",
       " ('great', 8),\n",
       " ('nice', 8),\n",
       " ('different', 7),\n",
       " ('time', 7),\n",
       " ('lasting', 6)]"
      ]
     },
     "execution_count": 36,
     "metadata": {},
     "output_type": "execute_result"
    }
   ],
   "source": [
    "all_words = list(itertools.chain(*bagsofwords_new))\n",
    "print(all_words[0:10])\n",
    "print()\n",
    "print(\"Most commonaly occuring words and frequency\\n\")\n",
    "words_freq = collections.Counter(all_words)\n",
    "words_freq.most_common(20)"
   ]
  },
  {
   "cell_type": "code",
   "execution_count": null,
   "metadata": {
    "colab": {
     "base_uri": "https://localhost:8080/",
     "height": 206
    },
    "executionInfo": {
     "elapsed": 390,
     "status": "ok",
     "timestamp": 1694858240422,
     "user": {
      "displayName": "Tahiyya Khan",
      "userId": "02112400725815246626"
     },
     "user_tz": -330
    },
    "id": "KxtWxuvRZqWI",
    "outputId": "b8f4f517-e5c0-4082-f5f5-c88178cf2e95"
   },
   "outputs": [
    {
     "data": {
      "text/html": [
       "\n",
       "  <div id=\"df-6299706d-915d-4c8c-8011-e5d34bf4358e\" class=\"colab-df-container\">\n",
       "    <div>\n",
       "<style scoped>\n",
       "    .dataframe tbody tr th:only-of-type {\n",
       "        vertical-align: middle;\n",
       "    }\n",
       "\n",
       "    .dataframe tbody tr th {\n",
       "        vertical-align: top;\n",
       "    }\n",
       "\n",
       "    .dataframe thead th {\n",
       "        text-align: right;\n",
       "    }\n",
       "</style>\n",
       "<table border=\"1\" class=\"dataframe\">\n",
       "  <thead>\n",
       "    <tr style=\"text-align: right;\">\n",
       "      <th></th>\n",
       "      <th>Words</th>\n",
       "      <th>Freq</th>\n",
       "    </tr>\n",
       "  </thead>\n",
       "  <tbody>\n",
       "    <tr>\n",
       "      <th>0</th>\n",
       "      <td>colors</td>\n",
       "      <td>46</td>\n",
       "    </tr>\n",
       "    <tr>\n",
       "      <th>1</th>\n",
       "      <td>like</td>\n",
       "      <td>30</td>\n",
       "    </tr>\n",
       "    <tr>\n",
       "      <th>2</th>\n",
       "      <td>lips</td>\n",
       "      <td>29</td>\n",
       "    </tr>\n",
       "    <tr>\n",
       "      <th>3</th>\n",
       "      <td>matte</td>\n",
       "      <td>20</td>\n",
       "    </tr>\n",
       "    <tr>\n",
       "      <th>4</th>\n",
       "      <td>color</td>\n",
       "      <td>19</td>\n",
       "    </tr>\n",
       "  </tbody>\n",
       "</table>\n",
       "</div>\n",
       "    <div class=\"colab-df-buttons\">\n",
       "\n",
       "  <div class=\"colab-df-container\">\n",
       "    <button class=\"colab-df-convert\" onclick=\"convertToInteractive('df-6299706d-915d-4c8c-8011-e5d34bf4358e')\"\n",
       "            title=\"Convert this dataframe to an interactive table.\"\n",
       "            style=\"display:none;\">\n",
       "\n",
       "  <svg xmlns=\"http://www.w3.org/2000/svg\" height=\"24px\" viewBox=\"0 -960 960 960\">\n",
       "    <path d=\"M120-120v-720h720v720H120Zm60-500h600v-160H180v160Zm220 220h160v-160H400v160Zm0 220h160v-160H400v160ZM180-400h160v-160H180v160Zm440 0h160v-160H620v160ZM180-180h160v-160H180v160Zm440 0h160v-160H620v160Z\"/>\n",
       "  </svg>\n",
       "    </button>\n",
       "\n",
       "  <style>\n",
       "    .colab-df-container {\n",
       "      display:flex;\n",
       "      gap: 12px;\n",
       "    }\n",
       "\n",
       "    .colab-df-convert {\n",
       "      background-color: #E8F0FE;\n",
       "      border: none;\n",
       "      border-radius: 50%;\n",
       "      cursor: pointer;\n",
       "      display: none;\n",
       "      fill: #1967D2;\n",
       "      height: 32px;\n",
       "      padding: 0 0 0 0;\n",
       "      width: 32px;\n",
       "    }\n",
       "\n",
       "    .colab-df-convert:hover {\n",
       "      background-color: #E2EBFA;\n",
       "      box-shadow: 0px 1px 2px rgba(60, 64, 67, 0.3), 0px 1px 3px 1px rgba(60, 64, 67, 0.15);\n",
       "      fill: #174EA6;\n",
       "    }\n",
       "\n",
       "    .colab-df-buttons div {\n",
       "      margin-bottom: 4px;\n",
       "    }\n",
       "\n",
       "    [theme=dark] .colab-df-convert {\n",
       "      background-color: #3B4455;\n",
       "      fill: #D2E3FC;\n",
       "    }\n",
       "\n",
       "    [theme=dark] .colab-df-convert:hover {\n",
       "      background-color: #434B5C;\n",
       "      box-shadow: 0px 1px 3px 1px rgba(0, 0, 0, 0.15);\n",
       "      filter: drop-shadow(0px 1px 2px rgba(0, 0, 0, 0.3));\n",
       "      fill: #FFFFFF;\n",
       "    }\n",
       "  </style>\n",
       "\n",
       "    <script>\n",
       "      const buttonEl =\n",
       "        document.querySelector('#df-6299706d-915d-4c8c-8011-e5d34bf4358e button.colab-df-convert');\n",
       "      buttonEl.style.display =\n",
       "        google.colab.kernel.accessAllowed ? 'block' : 'none';\n",
       "\n",
       "      async function convertToInteractive(key) {\n",
       "        const element = document.querySelector('#df-6299706d-915d-4c8c-8011-e5d34bf4358e');\n",
       "        const dataTable =\n",
       "          await google.colab.kernel.invokeFunction('convertToInteractive',\n",
       "                                                    [key], {});\n",
       "        if (!dataTable) return;\n",
       "\n",
       "        const docLinkHtml = 'Like what you see? Visit the ' +\n",
       "          '<a target=\"_blank\" href=https://colab.research.google.com/notebooks/data_table.ipynb>data table notebook</a>'\n",
       "          + ' to learn more about interactive tables.';\n",
       "        element.innerHTML = '';\n",
       "        dataTable['output_type'] = 'display_data';\n",
       "        await google.colab.output.renderOutput(dataTable, element);\n",
       "        const docLink = document.createElement('div');\n",
       "        docLink.innerHTML = docLinkHtml;\n",
       "        element.appendChild(docLink);\n",
       "      }\n",
       "    </script>\n",
       "  </div>\n",
       "\n",
       "\n",
       "<div id=\"df-bd136b23-4f7d-46b0-9321-38662075c6b4\">\n",
       "  <button class=\"colab-df-quickchart\" onclick=\"quickchart('df-bd136b23-4f7d-46b0-9321-38662075c6b4')\"\n",
       "            title=\"Suggest charts.\"\n",
       "            style=\"display:none;\">\n",
       "\n",
       "<svg xmlns=\"http://www.w3.org/2000/svg\" height=\"24px\"viewBox=\"0 0 24 24\"\n",
       "     width=\"24px\">\n",
       "    <g>\n",
       "        <path d=\"M19 3H5c-1.1 0-2 .9-2 2v14c0 1.1.9 2 2 2h14c1.1 0 2-.9 2-2V5c0-1.1-.9-2-2-2zM9 17H7v-7h2v7zm4 0h-2V7h2v10zm4 0h-2v-4h2v4z\"/>\n",
       "    </g>\n",
       "</svg>\n",
       "  </button>\n",
       "\n",
       "<style>\n",
       "  .colab-df-quickchart {\n",
       "      --bg-color: #E8F0FE;\n",
       "      --fill-color: #1967D2;\n",
       "      --hover-bg-color: #E2EBFA;\n",
       "      --hover-fill-color: #174EA6;\n",
       "      --disabled-fill-color: #AAA;\n",
       "      --disabled-bg-color: #DDD;\n",
       "  }\n",
       "\n",
       "  [theme=dark] .colab-df-quickchart {\n",
       "      --bg-color: #3B4455;\n",
       "      --fill-color: #D2E3FC;\n",
       "      --hover-bg-color: #434B5C;\n",
       "      --hover-fill-color: #FFFFFF;\n",
       "      --disabled-bg-color: #3B4455;\n",
       "      --disabled-fill-color: #666;\n",
       "  }\n",
       "\n",
       "  .colab-df-quickchart {\n",
       "    background-color: var(--bg-color);\n",
       "    border: none;\n",
       "    border-radius: 50%;\n",
       "    cursor: pointer;\n",
       "    display: none;\n",
       "    fill: var(--fill-color);\n",
       "    height: 32px;\n",
       "    padding: 0;\n",
       "    width: 32px;\n",
       "  }\n",
       "\n",
       "  .colab-df-quickchart:hover {\n",
       "    background-color: var(--hover-bg-color);\n",
       "    box-shadow: 0 1px 2px rgba(60, 64, 67, 0.3), 0 1px 3px 1px rgba(60, 64, 67, 0.15);\n",
       "    fill: var(--button-hover-fill-color);\n",
       "  }\n",
       "\n",
       "  .colab-df-quickchart-complete:disabled,\n",
       "  .colab-df-quickchart-complete:disabled:hover {\n",
       "    background-color: var(--disabled-bg-color);\n",
       "    fill: var(--disabled-fill-color);\n",
       "    box-shadow: none;\n",
       "  }\n",
       "\n",
       "  .colab-df-spinner {\n",
       "    border: 2px solid var(--fill-color);\n",
       "    border-color: transparent;\n",
       "    border-bottom-color: var(--fill-color);\n",
       "    animation:\n",
       "      spin 1s steps(1) infinite;\n",
       "  }\n",
       "\n",
       "  @keyframes spin {\n",
       "    0% {\n",
       "      border-color: transparent;\n",
       "      border-bottom-color: var(--fill-color);\n",
       "      border-left-color: var(--fill-color);\n",
       "    }\n",
       "    20% {\n",
       "      border-color: transparent;\n",
       "      border-left-color: var(--fill-color);\n",
       "      border-top-color: var(--fill-color);\n",
       "    }\n",
       "    30% {\n",
       "      border-color: transparent;\n",
       "      border-left-color: var(--fill-color);\n",
       "      border-top-color: var(--fill-color);\n",
       "      border-right-color: var(--fill-color);\n",
       "    }\n",
       "    40% {\n",
       "      border-color: transparent;\n",
       "      border-right-color: var(--fill-color);\n",
       "      border-top-color: var(--fill-color);\n",
       "    }\n",
       "    60% {\n",
       "      border-color: transparent;\n",
       "      border-right-color: var(--fill-color);\n",
       "    }\n",
       "    80% {\n",
       "      border-color: transparent;\n",
       "      border-right-color: var(--fill-color);\n",
       "      border-bottom-color: var(--fill-color);\n",
       "    }\n",
       "    90% {\n",
       "      border-color: transparent;\n",
       "      border-bottom-color: var(--fill-color);\n",
       "    }\n",
       "  }\n",
       "</style>\n",
       "\n",
       "  <script>\n",
       "    async function quickchart(key) {\n",
       "      const quickchartButtonEl =\n",
       "        document.querySelector('#' + key + ' button');\n",
       "      quickchartButtonEl.disabled = true;  // To prevent multiple clicks.\n",
       "      quickchartButtonEl.classList.add('colab-df-spinner');\n",
       "      try {\n",
       "        const charts = await google.colab.kernel.invokeFunction(\n",
       "            'suggestCharts', [key], {});\n",
       "      } catch (error) {\n",
       "        console.error('Error during call to suggestCharts:', error);\n",
       "      }\n",
       "      quickchartButtonEl.classList.remove('colab-df-spinner');\n",
       "      quickchartButtonEl.classList.add('colab-df-quickchart-complete');\n",
       "    }\n",
       "    (() => {\n",
       "      let quickchartButtonEl =\n",
       "        document.querySelector('#df-bd136b23-4f7d-46b0-9321-38662075c6b4 button');\n",
       "      quickchartButtonEl.style.display =\n",
       "        google.colab.kernel.accessAllowed ? 'block' : 'none';\n",
       "    })();\n",
       "  </script>\n",
       "</div>\n",
       "    </div>\n",
       "  </div>\n"
      ],
      "text/plain": [
       "    Words  Freq\n",
       "0  colors    46\n",
       "1    like    30\n",
       "2    lips    29\n",
       "3   matte    20\n",
       "4   color    19"
      ]
     },
     "execution_count": 37,
     "metadata": {},
     "output_type": "execute_result"
    }
   ],
   "source": [
    "freq_word_df = pd.DataFrame(words_freq.most_common(20), columns=['Words', 'Freq'])\n",
    "freq_word_df.head()"
   ]
  },
  {
   "cell_type": "code",
   "execution_count": null,
   "metadata": {
    "colab": {
     "base_uri": "https://localhost:8080/",
     "height": 813
    },
    "executionInfo": {
     "elapsed": 495,
     "status": "ok",
     "timestamp": 1694858299234,
     "user": {
      "displayName": "Tahiyya Khan",
      "userId": "02112400725815246626"
     },
     "user_tz": -330
    },
    "id": "Z1IydFWrZ6Ht",
    "outputId": "2fef9c7f-6bd5-4bb2-8277-ad2c01a2bce1"
   },
   "outputs": [
    {
     "data": {
      "image/png": "[encoded data removed]",
      "text/plain": [
       "<Figure size 1500x1000 with 1 Axes>"
      ]
     },
     "metadata": {},
     "output_type": "display_data"
    }
   ],
   "source": [
    "fig, ax = plt.subplots(figsize=(15,10))\n",
    "freq_word_df.sort_values(by = 'Freq').plot.barh(x= 'Words', y ='Freq', ax=ax, color=\"green\" )\n",
    "plt.show();"
   ]
  },
  {
   "cell_type": "code",
   "execution_count": null,
   "metadata": {
    "colab": {
     "base_uri": "https://localhost:8080/",
     "height": 441
    },
    "executionInfo": {
     "elapsed": 1826,
     "status": "ok",
     "timestamp": 1694860317149,
     "user": {
      "displayName": "Tahiyya Khan",
      "userId": "02112400725815246626"
     },
     "user_tz": -330
    },
    "id": "b6ecCo6gbTel",
    "outputId": "42c2f5cf-893d-4cbc-98f0-a6c193437ec5"
   },
   "outputs": [
    {
     "data": {
      "text/plain": [
       "<Figure size 1000x1000 with 0 Axes>"
      ]
     },
     "execution_count": 47,
     "metadata": {},
     "output_type": "execute_result"
    },
    {
     "data": {
      "text/plain": [
       "<matplotlib.image.AxesImage at 0x7f6dae35dba0>"
      ]
     },
     "execution_count": 47,
     "metadata": {},
     "output_type": "execute_result"
    },
    {
     "data": {
      "text/plain": [
       "(-0.5, 399.5, 199.5, -0.5)"
      ]
     },
     "execution_count": 47,
     "metadata": {},
     "output_type": "execute_result"
    },
    {
     "data": {
      "image/png": "[encoded data removed]",
      "text/plain": [
       "<Figure size 1000x1000 with 1 Axes>"
      ]
     },
     "metadata": {},
     "output_type": "display_data"
    }
   ],
   "source": [
    "from wordcloud import WordCloud, STOPWORDS\n",
    "import matplotlib.pyplot as plt\n",
    "\n",
    "word_string=\" \".join(freq_word_df.Words)\n",
    "wordcloud = WordCloud (#stopwords=STOPWORDS,\n",
    "                       background_color='black',\n",
    "                       max_words=20).generate (word_string)\n",
    "plt.figure(figsize=(10,10))\n",
    "plt.clf()\n",
    "plt.imshow(wordcloud)\n",
    "plt.axis('off')\n",
    "plt.show()\n"
   ]
  },
  {
   "cell_type": "code",
   "execution_count": null,
   "metadata": {
    "colab": {
     "base_uri": "https://localhost:8080/"
    },
    "executionInfo": {
     "elapsed": 395,
     "status": "ok",
     "timestamp": 1694858586668,
     "user": {
      "displayName": "Tahiyya Khan",
      "userId": "02112400725815246626"
     },
     "user_tz": -330
    },
    "id": "fftQcckecE6X",
    "outputId": "e5cd6a1a-1cda-4e71-effe-dab332048a35"
   },
   "outputs": [
    {
     "name": "stdout",
     "output_type": "stream",
     "text": [
      "0.07095238095238096\n",
      "little spectacle purchasing based reviews glad purchased love color extremely pigmented dry matte pretty fast little matte matte lips feel bit like chalk mind lips become chapped lippies flaky matte sticky long lasting whoever stay ur salvia drinking eating take pigment hours need reapply would recommend price grest product individually wrapped plus swatches order left right also last pic tried washing twice soap update since purchased tried lippies several flake several wan sure formula different darkest red darkest brown flake dropped star\n"
     ]
    }
   ],
   "source": [
    "sentiment_text = [TextBlob(tweet) for tweet in corpus]\n",
    "print(sentiment_text[0].polarity)\n",
    "print(sentiment_text[0])"
   ]
  },
  {
   "cell_type": "code",
   "execution_count": null,
   "metadata": {
    "colab": {
     "base_uri": "https://localhost:8080/",
     "height": 424
    },
    "executionInfo": {
     "elapsed": 414,
     "status": "ok",
     "timestamp": 1694858669110,
     "user": {
      "displayName": "Tahiyya Khan",
      "userId": "02112400725815246626"
     },
     "user_tz": -330
    },
    "id": "z0R6OTufcaVi",
    "outputId": "0b49b102-7e04-4a53-e10f-38d6aca2b315"
   },
   "outputs": [
    {
     "data": {
      "text/html": [
       "\n",
       "  <div id=\"df-b0e861f0-8c91-4a67-8fda-0025b379521d\" class=\"colab-df-container\">\n",
       "    <div>\n",
       "<style scoped>\n",
       "    .dataframe tbody tr th:only-of-type {\n",
       "        vertical-align: middle;\n",
       "    }\n",
       "\n",
       "    .dataframe tbody tr th {\n",
       "        vertical-align: top;\n",
       "    }\n",
       "\n",
       "    .dataframe thead th {\n",
       "        text-align: right;\n",
       "    }\n",
       "</style>\n",
       "<table border=\"1\" class=\"dataframe\">\n",
       "  <thead>\n",
       "    <tr style=\"text-align: right;\">\n",
       "      <th></th>\n",
       "      <th>Polarity</th>\n",
       "      <th>Tweet_Text</th>\n",
       "    </tr>\n",
       "  </thead>\n",
       "  <tbody>\n",
       "    <tr>\n",
       "      <th>23</th>\n",
       "      <td>1.000</td>\n",
       "      <td>perfect post office put deliver package yester...</td>\n",
       "    </tr>\n",
       "    <tr>\n",
       "      <th>80</th>\n",
       "      <td>0.800</td>\n",
       "      <td>great velvet matte lipglosses</td>\n",
       "    </tr>\n",
       "    <tr>\n",
       "      <th>72</th>\n",
       "      <td>0.800</td>\n",
       "      <td>great product</td>\n",
       "    </tr>\n",
       "    <tr>\n",
       "      <th>53</th>\n",
       "      <td>0.600</td>\n",
       "      <td>colors good dries many lips</td>\n",
       "    </tr>\n",
       "    <tr>\n",
       "      <th>50</th>\n",
       "      <td>0.575</td>\n",
       "      <td>none colors suitable nice someone else</td>\n",
       "    </tr>\n",
       "    <tr>\n",
       "      <th>...</th>\n",
       "      <td>...</td>\n",
       "      <td>...</td>\n",
       "    </tr>\n",
       "    <tr>\n",
       "      <th>14</th>\n",
       "      <td>-0.500</td>\n",
       "      <td>like smeared teeth difficult remove yet lips w...</td>\n",
       "    </tr>\n",
       "    <tr>\n",
       "      <th>73</th>\n",
       "      <td>-0.700</td>\n",
       "      <td>ordered mom like smell bad like gasoline somet...</td>\n",
       "    </tr>\n",
       "    <tr>\n",
       "      <th>67</th>\n",
       "      <td>-0.800</td>\n",
       "      <td>lipstick comes immediately gets sticky like gl...</td>\n",
       "    </tr>\n",
       "    <tr>\n",
       "      <th>43</th>\n",
       "      <td>-0.900</td>\n",
       "      <td>dislike way feels cruddy</td>\n",
       "    </tr>\n",
       "    <tr>\n",
       "      <th>70</th>\n",
       "      <td>-1.000</td>\n",
       "      <td>stars smells like chemicals worst lips stuck t...</td>\n",
       "    </tr>\n",
       "  </tbody>\n",
       "</table>\n",
       "<p>81 rows × 2 columns</p>\n",
       "</div>\n",
       "    <div class=\"colab-df-buttons\">\n",
       "\n",
       "  <div class=\"colab-df-container\">\n",
       "    <button class=\"colab-df-convert\" onclick=\"convertToInteractive('df-b0e861f0-8c91-4a67-8fda-0025b379521d')\"\n",
       "            title=\"Convert this dataframe to an interactive table.\"\n",
       "            style=\"display:none;\">\n",
       "\n",
       "  <svg xmlns=\"http://www.w3.org/2000/svg\" height=\"24px\" viewBox=\"0 -960 960 960\">\n",
       "    <path d=\"M120-120v-720h720v720H120Zm60-500h600v-160H180v160Zm220 220h160v-160H400v160Zm0 220h160v-160H400v160ZM180-400h160v-160H180v160Zm440 0h160v-160H620v160ZM180-180h160v-160H180v160Zm440 0h160v-160H620v160Z\"/>\n",
       "  </svg>\n",
       "    </button>\n",
       "\n",
       "  <style>\n",
       "    .colab-df-container {\n",
       "      display:flex;\n",
       "      gap: 12px;\n",
       "    }\n",
       "\n",
       "    .colab-df-convert {\n",
       "      background-color: #E8F0FE;\n",
       "      border: none;\n",
       "      border-radius: 50%;\n",
       "      cursor: pointer;\n",
       "      display: none;\n",
       "      fill: #1967D2;\n",
       "      height: 32px;\n",
       "      padding: 0 0 0 0;\n",
       "      width: 32px;\n",
       "    }\n",
       "\n",
       "    .colab-df-convert:hover {\n",
       "      background-color: #E2EBFA;\n",
       "      box-shadow: 0px 1px 2px rgba(60, 64, 67, 0.3), 0px 1px 3px 1px rgba(60, 64, 67, 0.15);\n",
       "      fill: #174EA6;\n",
       "    }\n",
       "\n",
       "    .colab-df-buttons div {\n",
       "      margin-bottom: 4px;\n",
       "    }\n",
       "\n",
       "    [theme=dark] .colab-df-convert {\n",
       "      background-color: #3B4455;\n",
       "      fill: #D2E3FC;\n",
       "    }\n",
       "\n",
       "    [theme=dark] .colab-df-convert:hover {\n",
       "      background-color: #434B5C;\n",
       "      box-shadow: 0px 1px 3px 1px rgba(0, 0, 0, 0.15);\n",
       "      filter: drop-shadow(0px 1px 2px rgba(0, 0, 0, 0.3));\n",
       "      fill: #FFFFFF;\n",
       "    }\n",
       "  </style>\n",
       "\n",
       "    <script>\n",
       "      const buttonEl =\n",
       "        document.querySelector('#df-b0e861f0-8c91-4a67-8fda-0025b379521d button.colab-df-convert');\n",
       "      buttonEl.style.display =\n",
       "        google.colab.kernel.accessAllowed ? 'block' : 'none';\n",
       "\n",
       "      async function convertToInteractive(key) {\n",
       "        const element = document.querySelector('#df-b0e861f0-8c91-4a67-8fda-0025b379521d');\n",
       "        const dataTable =\n",
       "          await google.colab.kernel.invokeFunction('convertToInteractive',\n",
       "                                                    [key], {});\n",
       "        if (!dataTable) return;\n",
       "\n",
       "        const docLinkHtml = 'Like what you see? Visit the ' +\n",
       "          '<a target=\"_blank\" href=https://colab.research.google.com/notebooks/data_table.ipynb>data table notebook</a>'\n",
       "          + ' to learn more about interactive tables.';\n",
       "        element.innerHTML = '';\n",
       "        dataTable['output_type'] = 'display_data';\n",
       "        await google.colab.output.renderOutput(dataTable, element);\n",
       "        const docLink = document.createElement('div');\n",
       "        docLink.innerHTML = docLinkHtml;\n",
       "        element.appendChild(docLink);\n",
       "      }\n",
       "    </script>\n",
       "  </div>\n",
       "\n",
       "\n",
       "<div id=\"df-545e5c3b-3062-4efe-beef-6dcb4d29e20c\">\n",
       "  <button class=\"colab-df-quickchart\" onclick=\"quickchart('df-545e5c3b-3062-4efe-beef-6dcb4d29e20c')\"\n",
       "            title=\"Suggest charts.\"\n",
       "            style=\"display:none;\">\n",
       "\n",
       "<svg xmlns=\"http://www.w3.org/2000/svg\" height=\"24px\"viewBox=\"0 0 24 24\"\n",
       "     width=\"24px\">\n",
       "    <g>\n",
       "        <path d=\"M19 3H5c-1.1 0-2 .9-2 2v14c0 1.1.9 2 2 2h14c1.1 0 2-.9 2-2V5c0-1.1-.9-2-2-2zM9 17H7v-7h2v7zm4 0h-2V7h2v10zm4 0h-2v-4h2v4z\"/>\n",
       "    </g>\n",
       "</svg>\n",
       "  </button>\n",
       "\n",
       "<style>\n",
       "  .colab-df-quickchart {\n",
       "      --bg-color: #E8F0FE;\n",
       "      --fill-color: #1967D2;\n",
       "      --hover-bg-color: #E2EBFA;\n",
       "      --hover-fill-color: #174EA6;\n",
       "      --disabled-fill-color: #AAA;\n",
       "      --disabled-bg-color: #DDD;\n",
       "  }\n",
       "\n",
       "  [theme=dark] .colab-df-quickchart {\n",
       "      --bg-color: #3B4455;\n",
       "      --fill-color: #D2E3FC;\n",
       "      --hover-bg-color: #434B5C;\n",
       "      --hover-fill-color: #FFFFFF;\n",
       "      --disabled-bg-color: #3B4455;\n",
       "      --disabled-fill-color: #666;\n",
       "  }\n",
       "\n",
       "  .colab-df-quickchart {\n",
       "    background-color: var(--bg-color);\n",
       "    border: none;\n",
       "    border-radius: 50%;\n",
       "    cursor: pointer;\n",
       "    display: none;\n",
       "    fill: var(--fill-color);\n",
       "    height: 32px;\n",
       "    padding: 0;\n",
       "    width: 32px;\n",
       "  }\n",
       "\n",
       "  .colab-df-quickchart:hover {\n",
       "    background-color: var(--hover-bg-color);\n",
       "    box-shadow: 0 1px 2px rgba(60, 64, 67, 0.3), 0 1px 3px 1px rgba(60, 64, 67, 0.15);\n",
       "    fill: var(--button-hover-fill-color);\n",
       "  }\n",
       "\n",
       "  .colab-df-quickchart-complete:disabled,\n",
       "  .colab-df-quickchart-complete:disabled:hover {\n",
       "    background-color: var(--disabled-bg-color);\n",
       "    fill: var(--disabled-fill-color);\n",
       "    box-shadow: none;\n",
       "  }\n",
       "\n",
       "  .colab-df-spinner {\n",
       "    border: 2px solid var(--fill-color);\n",
       "    border-color: transparent;\n",
       "    border-bottom-color: var(--fill-color);\n",
       "    animation:\n",
       "      spin 1s steps(1) infinite;\n",
       "  }\n",
       "\n",
       "  @keyframes spin {\n",
       "    0% {\n",
       "      border-color: transparent;\n",
       "      border-bottom-color: var(--fill-color);\n",
       "      border-left-color: var(--fill-color);\n",
       "    }\n",
       "    20% {\n",
       "      border-color: transparent;\n",
       "      border-left-color: var(--fill-color);\n",
       "      border-top-color: var(--fill-color);\n",
       "    }\n",
       "    30% {\n",
       "      border-color: transparent;\n",
       "      border-left-color: var(--fill-color);\n",
       "      border-top-color: var(--fill-color);\n",
       "      border-right-color: var(--fill-color);\n",
       "    }\n",
       "    40% {\n",
       "      border-color: transparent;\n",
       "      border-right-color: var(--fill-color);\n",
       "      border-top-color: var(--fill-color);\n",
       "    }\n",
       "    60% {\n",
       "      border-color: transparent;\n",
       "      border-right-color: var(--fill-color);\n",
       "    }\n",
       "    80% {\n",
       "      border-color: transparent;\n",
       "      border-right-color: var(--fill-color);\n",
       "      border-bottom-color: var(--fill-color);\n",
       "    }\n",
       "    90% {\n",
       "      border-color: transparent;\n",
       "      border-bottom-color: var(--fill-color);\n",
       "    }\n",
       "  }\n",
       "</style>\n",
       "\n",
       "  <script>\n",
       "    async function quickchart(key) {\n",
       "      const quickchartButtonEl =\n",
       "        document.querySelector('#' + key + ' button');\n",
       "      quickchartButtonEl.disabled = true;  // To prevent multiple clicks.\n",
       "      quickchartButtonEl.classList.add('colab-df-spinner');\n",
       "      try {\n",
       "        const charts = await google.colab.kernel.invokeFunction(\n",
       "            'suggestCharts', [key], {});\n",
       "      } catch (error) {\n",
       "        console.error('Error during call to suggestCharts:', error);\n",
       "      }\n",
       "      quickchartButtonEl.classList.remove('colab-df-spinner');\n",
       "      quickchartButtonEl.classList.add('colab-df-quickchart-complete');\n",
       "    }\n",
       "    (() => {\n",
       "      let quickchartButtonEl =\n",
       "        document.querySelector('#df-545e5c3b-3062-4efe-beef-6dcb4d29e20c button');\n",
       "      quickchartButtonEl.style.display =\n",
       "        google.colab.kernel.accessAllowed ? 'block' : 'none';\n",
       "    })();\n",
       "  </script>\n",
       "</div>\n",
       "    </div>\n",
       "  </div>\n"
      ],
      "text/plain": [
       "    Polarity                                         Tweet_Text\n",
       "23     1.000  perfect post office put deliver package yester...\n",
       "80     0.800                      great velvet matte lipglosses\n",
       "72     0.800                                      great product\n",
       "53     0.600                        colors good dries many lips\n",
       "50     0.575             none colors suitable nice someone else\n",
       "..       ...                                                ...\n",
       "14    -0.500  like smeared teeth difficult remove yet lips w...\n",
       "73    -0.700  ordered mom like smell bad like gasoline somet...\n",
       "67    -0.800  lipstick comes immediately gets sticky like gl...\n",
       "43    -0.900                           dislike way feels cruddy\n",
       "70    -1.000  stars smells like chemicals worst lips stuck t...\n",
       "\n",
       "[81 rows x 2 columns]"
      ]
     },
     "execution_count": 41,
     "metadata": {},
     "output_type": "execute_result"
    }
   ],
   "source": [
    "sentiments = [[tweet.sentiment.polarity, str(tweet)] for tweet in sentiment_text]\n",
    "sentiment_df = pd.DataFrame(sentiments, columns=['Polarity',\"Tweet_Text\"])\n",
    "sentiment_df.sort_values(by='Polarity', ascending=False)"
   ]
  },
  {
   "cell_type": "code",
   "execution_count": null,
   "metadata": {
    "colab": {
     "base_uri": "https://localhost:8080/",
     "height": 870
    },
    "executionInfo": {
     "elapsed": 2363,
     "status": "ok",
     "timestamp": 1694860059295,
     "user": {
      "displayName": "Tahiyya Khan",
      "userId": "02112400725815246626"
     },
     "user_tz": -330
    },
    "id": "3OLUJR7Rcugk",
    "outputId": "116e52bd-40cb-4d7c-fa91-961f78bbd4f2"
   },
   "outputs": [
    {
     "data": {
      "text/plain": [
       "array([<Axes: title={'center': 'Polarity'}>], dtype=object)"
      ]
     },
     "execution_count": 46,
     "metadata": {},
     "output_type": "execute_result"
    },
    {
     "data": {
      "text/plain": [
       "Text(0.5, 1.0, 'Sentiments Distribution on Lipstick')"
      ]
     },
     "execution_count": 46,
     "metadata": {},
     "output_type": "execute_result"
    },
    {
     "data": {
      "image/png": "[encoded data removed]",
      "text/plain": [
       "<Figure size 1000x1000 with 1 Axes>"
      ]
     },
     "metadata": {},
     "output_type": "display_data"
    }
   ],
   "source": [
    "fig, ax = plt.subplots(figsize=(10, 10))\n",
    "\n",
    "# Plot histogram of the polarity values\n",
    "sentiment_df.hist(bins=[-1, -0.75, -0.5, -0.25, 0.25, 0.5, 0.75, 1], ax=ax, color=\"#CD7F32\")\n",
    "plt.title(\"Sentiments Distribution on Lipstick\")\n",
    "plt.show()"
   ]
  },
  {
   "cell_type": "code",
   "execution_count": null,
   "metadata": {
    "id": "a1TBvX1edCqC"
   },
   "outputs": [],
   "source": []
  }
 ],
 "metadata": {
  "colab": {
   "authorship_tag": "ABX9TyM9YelUN3xJZObAQMJt3nx4",
   "provenance": []
  },
  "kernelspec": {
   "display_name": "Python 3 (ipykernel)",
   "language": "python",
   "name": "python3"
  },
  "language_info": {
   "codemirror_mode": {
    "name": "ipython",
    "version": 3
   },
   "file_extension": ".py",
   "mimetype": "text/x-python",
   "name": "python",
   "nbconvert_exporter": "python",
   "pygments_lexer": "ipython3",
   "version": "3.11.3"
  }
 },
 "nbformat": 4,
 "nbformat_minor": 1
}
